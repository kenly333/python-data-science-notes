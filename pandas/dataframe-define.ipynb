{
 "cells": [
  {
   "cell_type": "markdown",
   "metadata": {},
   "source": [
    "### 参考：https://blog.csdn.net/yiyele/article/details/80605909"
   ]
  },
  {
   "cell_type": "code",
   "execution_count": 1,
   "metadata": {},
   "outputs": [],
   "source": [
    "import numpy as np \n",
    "import pandas as pd"
   ]
  },
  {
   "cell_type": "markdown",
   "metadata": {},
   "source": [
    "### 1 从CSV或者xlsx文件导入DataFrame"
   ]
  },
  {
   "cell_type": "code",
   "execution_count": 2,
   "metadata": {},
   "outputs": [
    {
     "name": "stdout",
     "output_type": "stream",
     "text": [
      "<class 'pandas.core.frame.DataFrame'>\n"
     ]
    }
   ],
   "source": [
    "df_train = pd.read_csv('../Datasets/Breast-Cancer/breast-cancer-train.csv')\n",
    "df_test = pd.read_csv('../Datasets/Breast-Cancer/breast-cancer-test.csv')\n",
    "print(type(df_train))"
   ]
  },
  {
   "cell_type": "code",
   "execution_count": 3,
   "metadata": {},
   "outputs": [
    {
     "name": "stdout",
     "output_type": "stream",
     "text": [
      "<class 'pandas.core.frame.DataFrame'>\n"
     ]
    }
   ],
   "source": [
    "df_test_negative = df_test.loc[df_test['Type'] == 0][['Clump Thickness', 'Cell Size']]\n",
    "df_test_positive = df_test.loc[df_test['Type'] == 1][['Clump Thickness', 'Cell Size']]\n",
    "print(type(df_test_negative))"
   ]
  },
  {
   "cell_type": "markdown",
   "metadata": {},
   "source": [
    "### 2 用pandas创建数据表"
   ]
  },
  {
   "cell_type": "code",
   "execution_count": 4,
   "metadata": {},
   "outputs": [
    {
     "name": "stdout",
     "output_type": "stream",
     "text": [
      "     id       date         city category  age   price\n",
      "0  1001 2013-01-02     Beijing     100-A   23  1200.0\n",
      "1  1002 2013-01-03           SH    100-B   44     NaN\n",
      "2  1003 2013-01-04   guangzhou     110-A   54  2133.0\n",
      "3  1004 2013-01-05     Shenzhen    110-C   32  5433.0\n",
      "4  1005 2013-01-06     shanghai    210-A   34     NaN\n",
      "5  1006 2013-01-07     BEIJING     130-F   32  4432.0\n"
     ]
    }
   ],
   "source": [
    "df = pd.DataFrame({\"id\":[1001,1002,1003,1004,1005,1006], \n",
    " \"date\":pd.date_range('20130102', periods=6),\n",
    "  \"city\":['Beijing ', 'SH', ' guangzhou ', 'Shenzhen', 'shanghai', 'BEIJING '],\n",
    " \"age\":[23,44,54,32,34,32],\n",
    " \"category\":['100-A','100-B','110-A','110-C','210-A','130-F'],\n",
    "  \"price\":[1200,np.nan,2133,5433,np.nan,4432]},\n",
    "  columns =['id','date','city','category','age','price'])\n",
    "\n",
    "print(df)"
   ]
  },
  {
   "cell_type": "markdown",
   "metadata": {},
   "source": [
    "### 3 数据表基本信息(元数据)"
   ]
  },
  {
   "cell_type": "code",
   "execution_count": 5,
   "metadata": {},
   "outputs": [
    {
     "name": "stdout",
     "output_type": "stream",
     "text": [
      "<class 'pandas.core.frame.DataFrame'>\n",
      "RangeIndex: 6 entries, 0 to 5\n",
      "Data columns (total 6 columns):\n",
      "id          6 non-null int64\n",
      "date        6 non-null datetime64[ns]\n",
      "city        6 non-null object\n",
      "category    6 non-null object\n",
      "age         6 non-null int64\n",
      "price       4 non-null float64\n",
      "dtypes: datetime64[ns](1), float64(1), int64(2), object(2)\n",
      "memory usage: 368.0+ bytes\n",
      "None\n"
     ]
    }
   ],
   "source": [
    "print(df.info())"
   ]
  },
  {
   "cell_type": "code",
   "execution_count": 6,
   "metadata": {},
   "outputs": [
    {
     "name": "stdout",
     "output_type": "stream",
     "text": [
      "(6, 6)\n"
     ]
    }
   ],
   "source": [
    "# 维度\n",
    "print(df.shape)"
   ]
  },
  {
   "cell_type": "code",
   "execution_count": 7,
   "metadata": {},
   "outputs": [
    {
     "name": "stdout",
     "output_type": "stream",
     "text": [
      "Index(['id', 'date', 'city', 'category', 'age', 'price'], dtype='object')\n",
      "id                   int64\n",
      "date        datetime64[ns]\n",
      "city                object\n",
      "category            object\n",
      "age                  int64\n",
      "price              float64\n",
      "dtype: object\n"
     ]
    }
   ],
   "source": [
    "# 查看列名称\n",
    "print(df.columns)\n",
    "\n",
    "# 每一列数据的格式\n",
    "print(df.dtypes)"
   ]
  },
  {
   "cell_type": "code",
   "execution_count": 8,
   "metadata": {},
   "outputs": [
    {
     "name": "stdout",
     "output_type": "stream",
     "text": [
      "int64\n",
      "0    False\n",
      "1     True\n",
      "2    False\n",
      "3    False\n",
      "4     True\n",
      "5    False\n",
      "Name: price, dtype: bool\n",
      "[23 44 54 32 34]\n"
     ]
    }
   ],
   "source": [
    "# 某一列格式\n",
    "print(df['id'].dtype)\n",
    "\n",
    "# 查看某一列空值\n",
    "print(df['price'].isnull())\n",
    "\n",
    "# 查看某一列的唯一值\n",
    "print(df['age'].unique())"
   ]
  },
  {
   "cell_type": "markdown",
   "metadata": {},
   "source": [
    "### 4 查看表数据"
   ]
  },
  {
   "cell_type": "code",
   "execution_count": 9,
   "metadata": {},
   "outputs": [
    {
     "name": "stdout",
     "output_type": "stream",
     "text": [
      "      id   date   city  category    age  price\n",
      "0  False  False  False     False  False  False\n",
      "1  False  False  False     False  False   True\n",
      "2  False  False  False     False  False  False\n",
      "3  False  False  False     False  False  False\n",
      "4  False  False  False     False  False   True\n",
      "5  False  False  False     False  False  False\n"
     ]
    }
   ],
   "source": [
    "# 是否空值\n",
    "print(df.isnull())"
   ]
  },
  {
   "cell_type": "code",
   "execution_count": 10,
   "metadata": {},
   "outputs": [
    {
     "data": {
      "text/html": [
       "<div>\n",
       "<style scoped>\n",
       "    .dataframe tbody tr th:only-of-type {\n",
       "        vertical-align: middle;\n",
       "    }\n",
       "\n",
       "    .dataframe tbody tr th {\n",
       "        vertical-align: top;\n",
       "    }\n",
       "\n",
       "    .dataframe thead th {\n",
       "        text-align: right;\n",
       "    }\n",
       "</style>\n",
       "<table border=\"1\" class=\"dataframe\">\n",
       "  <thead>\n",
       "    <tr style=\"text-align: right;\">\n",
       "      <th></th>\n",
       "      <th>id</th>\n",
       "      <th>date</th>\n",
       "      <th>city</th>\n",
       "      <th>category</th>\n",
       "      <th>age</th>\n",
       "      <th>price</th>\n",
       "    </tr>\n",
       "  </thead>\n",
       "  <tbody>\n",
       "    <tr>\n",
       "      <th>1</th>\n",
       "      <td>1002</td>\n",
       "      <td>2013-01-03</td>\n",
       "      <td>SH</td>\n",
       "      <td>100-B</td>\n",
       "      <td>44</td>\n",
       "      <td>NaN</td>\n",
       "    </tr>\n",
       "    <tr>\n",
       "      <th>2</th>\n",
       "      <td>1003</td>\n",
       "      <td>2013-01-04</td>\n",
       "      <td>guangzhou</td>\n",
       "      <td>110-A</td>\n",
       "      <td>54</td>\n",
       "      <td>2133.0</td>\n",
       "    </tr>\n",
       "    <tr>\n",
       "      <th>3</th>\n",
       "      <td>1004</td>\n",
       "      <td>2013-01-05</td>\n",
       "      <td>Shenzhen</td>\n",
       "      <td>110-C</td>\n",
       "      <td>32</td>\n",
       "      <td>5433.0</td>\n",
       "    </tr>\n",
       "    <tr>\n",
       "      <th>4</th>\n",
       "      <td>1005</td>\n",
       "      <td>2013-01-06</td>\n",
       "      <td>shanghai</td>\n",
       "      <td>210-A</td>\n",
       "      <td>34</td>\n",
       "      <td>NaN</td>\n",
       "    </tr>\n",
       "    <tr>\n",
       "      <th>5</th>\n",
       "      <td>1006</td>\n",
       "      <td>2013-01-07</td>\n",
       "      <td>BEIJING</td>\n",
       "      <td>130-F</td>\n",
       "      <td>32</td>\n",
       "      <td>4432.0</td>\n",
       "    </tr>\n",
       "  </tbody>\n",
       "</table>\n",
       "</div>"
      ],
      "text/plain": [
       "     id       date         city category  age   price\n",
       "1  1002 2013-01-03           SH    100-B   44     NaN\n",
       "2  1003 2013-01-04   guangzhou     110-A   54  2133.0\n",
       "3  1004 2013-01-05     Shenzhen    110-C   32  5433.0\n",
       "4  1005 2013-01-06     shanghai    210-A   34     NaN\n",
       "5  1006 2013-01-07     BEIJING     130-F   32  4432.0"
      ]
     },
     "execution_count": 10,
     "metadata": {},
     "output_type": "execute_result"
    }
   ],
   "source": [
    "# 查看前10行数据、后10行数据：\n",
    "df.head() #默认前10行数据 \n",
    "df.tail() #默认后10 行数据"
   ]
  },
  {
   "cell_type": "code",
   "execution_count": 11,
   "metadata": {},
   "outputs": [
    {
     "name": "stdout",
     "output_type": "stream",
     "text": [
      "[[1001 Timestamp('2013-01-02 00:00:00') 'Beijing ' '100-A' 23 1200.0]\n",
      " [1002 Timestamp('2013-01-03 00:00:00') 'SH' '100-B' 44 nan]\n",
      " [1003 Timestamp('2013-01-04 00:00:00') ' guangzhou ' '110-A' 54 2133.0]\n",
      " [1004 Timestamp('2013-01-05 00:00:00') 'Shenzhen' '110-C' 32 5433.0]\n",
      " [1005 Timestamp('2013-01-06 00:00:00') 'shanghai' '210-A' 34 nan]\n",
      " [1006 Timestamp('2013-01-07 00:00:00') 'BEIJING ' '130-F' 32 4432.0]]\n"
     ]
    }
   ],
   "source": [
    "# 查看数据表的值\n",
    "print(df.values)"
   ]
  },
  {
   "cell_type": "markdown",
   "metadata": {},
   "source": [
    "### 5 数据表清洗"
   ]
  },
  {
   "cell_type": "code",
   "execution_count": 12,
   "metadata": {},
   "outputs": [
    {
     "name": "stdout",
     "output_type": "stream",
     "text": [
      "     id       date         city category  age   price\n",
      "0  1001 2013-01-02     Beijing     100-A   23  1200.0\n",
      "1  1002 2013-01-03           SH    100-B   44     NaN\n",
      "2  1003 2013-01-04   guangzhou     110-A   54  2133.0\n",
      "3  1004 2013-01-05     Shenzhen    110-C   32  5433.0\n",
      "4  1005 2013-01-06     shanghai    210-A   34     NaN\n",
      "5  1006 2013-01-07     BEIJING     130-F   32  4432.0\n",
      "     id       date         city category  age   price\n",
      "0  1001 2013-01-02     Beijing     100-A   23  1200.0\n",
      "1  1002 2013-01-03           SH    100-B   44     0.0\n",
      "2  1003 2013-01-04   guangzhou     110-A   54  2133.0\n",
      "3  1004 2013-01-05     Shenzhen    110-C   32  5433.0\n",
      "4  1005 2013-01-06     shanghai    210-A   34     0.0\n",
      "5  1006 2013-01-07     BEIJING     130-F   32  4432.0\n"
     ]
    }
   ],
   "source": [
    "#用数字0填充空值：\n",
    "newdf=df.fillna(value=0)\n",
    "print(df)\n",
    "print(newdf)"
   ]
  },
  {
   "cell_type": "code",
   "execution_count": 13,
   "metadata": {},
   "outputs": [
    {
     "name": "stdout",
     "output_type": "stream",
     "text": [
      "     id       date         city category  age   price\n",
      "0  1001 2013-01-02     Beijing     100-A   23  1200.0\n",
      "1  1002 2013-01-03           SH    100-B   44  3299.5\n",
      "2  1003 2013-01-04   guangzhou     110-A   54  2133.0\n",
      "3  1004 2013-01-05     Shenzhen    110-C   32  5433.0\n",
      "4  1005 2013-01-06     shanghai    210-A   34  3299.5\n",
      "5  1006 2013-01-07     BEIJING     130-F   32  4432.0\n"
     ]
    }
   ],
   "source": [
    "#使用列price的均值对NA进行填充\n",
    "df['price']=df['price'].fillna(df['price'].mean())\n",
    "print(df)"
   ]
  },
  {
   "cell_type": "code",
   "execution_count": 14,
   "metadata": {},
   "outputs": [
    {
     "name": "stdout",
     "output_type": "stream",
     "text": [
      "     id       date       city category  age   price\n",
      "0  1001 2013-01-02    Beijing    100-A   23  1200.0\n",
      "1  1002 2013-01-03         SH    100-B   44  3299.5\n",
      "2  1003 2013-01-04  guangzhou    110-A   54  2133.0\n",
      "3  1004 2013-01-05   Shenzhen    110-C   32  5433.0\n",
      "4  1005 2013-01-06   shanghai    210-A   34  3299.5\n",
      "5  1006 2013-01-07    BEIJING    130-F   32  4432.0\n"
     ]
    }
   ],
   "source": [
    "#清除city字段的字符空格\n",
    "df['city']=df['city'].map(str.strip)\n",
    "print(df)"
   ]
  },
  {
   "cell_type": "code",
   "execution_count": 15,
   "metadata": {},
   "outputs": [
    {
     "name": "stdout",
     "output_type": "stream",
     "text": [
      "     id       date       city category  age   price\n",
      "0  1001 2013-01-02    beijing    100-A   23  1200.0\n",
      "1  1002 2013-01-03         sh    100-B   44  3299.5\n",
      "2  1003 2013-01-04  guangzhou    110-A   54  2133.0\n",
      "3  1004 2013-01-05   shenzhen    110-C   32  5433.0\n",
      "4  1005 2013-01-06   shanghai    210-A   34  3299.5\n",
      "5  1006 2013-01-07    beijing    130-F   32  4432.0\n"
     ]
    }
   ],
   "source": [
    "#大小写转换\n",
    "df['city']=df['city'].str.lower()\n",
    "print(df)"
   ]
  },
  {
   "cell_type": "code",
   "execution_count": 16,
   "metadata": {},
   "outputs": [
    {
     "data": {
      "text/plain": [
       "0    1200\n",
       "1    3299\n",
       "2    2133\n",
       "3    5433\n",
       "4    3299\n",
       "5    4432\n",
       "Name: price, dtype: int64"
      ]
     },
     "execution_count": 16,
     "metadata": {},
     "output_type": "execute_result"
    }
   ],
   "source": [
    "#更改数据格式\n",
    "df['price'].astype('int')"
   ]
  },
  {
   "cell_type": "code",
   "execution_count": 17,
   "metadata": {},
   "outputs": [
    {
     "data": {
      "text/html": [
       "<div>\n",
       "<style scoped>\n",
       "    .dataframe tbody tr th:only-of-type {\n",
       "        vertical-align: middle;\n",
       "    }\n",
       "\n",
       "    .dataframe tbody tr th {\n",
       "        vertical-align: top;\n",
       "    }\n",
       "\n",
       "    .dataframe thead th {\n",
       "        text-align: right;\n",
       "    }\n",
       "</style>\n",
       "<table border=\"1\" class=\"dataframe\">\n",
       "  <thead>\n",
       "    <tr style=\"text-align: right;\">\n",
       "      <th></th>\n",
       "      <th>id</th>\n",
       "      <th>date</th>\n",
       "      <th>city</th>\n",
       "      <th>category-size</th>\n",
       "      <th>age</th>\n",
       "      <th>price</th>\n",
       "    </tr>\n",
       "  </thead>\n",
       "  <tbody>\n",
       "    <tr>\n",
       "      <th>0</th>\n",
       "      <td>1001</td>\n",
       "      <td>2013-01-02</td>\n",
       "      <td>beijing</td>\n",
       "      <td>100-A</td>\n",
       "      <td>23</td>\n",
       "      <td>1200.0</td>\n",
       "    </tr>\n",
       "    <tr>\n",
       "      <th>1</th>\n",
       "      <td>1002</td>\n",
       "      <td>2013-01-03</td>\n",
       "      <td>sh</td>\n",
       "      <td>100-B</td>\n",
       "      <td>44</td>\n",
       "      <td>3299.5</td>\n",
       "    </tr>\n",
       "    <tr>\n",
       "      <th>2</th>\n",
       "      <td>1003</td>\n",
       "      <td>2013-01-04</td>\n",
       "      <td>guangzhou</td>\n",
       "      <td>110-A</td>\n",
       "      <td>54</td>\n",
       "      <td>2133.0</td>\n",
       "    </tr>\n",
       "    <tr>\n",
       "      <th>3</th>\n",
       "      <td>1004</td>\n",
       "      <td>2013-01-05</td>\n",
       "      <td>shenzhen</td>\n",
       "      <td>110-C</td>\n",
       "      <td>32</td>\n",
       "      <td>5433.0</td>\n",
       "    </tr>\n",
       "    <tr>\n",
       "      <th>4</th>\n",
       "      <td>1005</td>\n",
       "      <td>2013-01-06</td>\n",
       "      <td>shanghai</td>\n",
       "      <td>210-A</td>\n",
       "      <td>34</td>\n",
       "      <td>3299.5</td>\n",
       "    </tr>\n",
       "    <tr>\n",
       "      <th>5</th>\n",
       "      <td>1006</td>\n",
       "      <td>2013-01-07</td>\n",
       "      <td>beijing</td>\n",
       "      <td>130-F</td>\n",
       "      <td>32</td>\n",
       "      <td>4432.0</td>\n",
       "    </tr>\n",
       "  </tbody>\n",
       "</table>\n",
       "</div>"
      ],
      "text/plain": [
       "     id       date       city category-size  age   price\n",
       "0  1001 2013-01-02    beijing         100-A   23  1200.0\n",
       "1  1002 2013-01-03         sh         100-B   44  3299.5\n",
       "2  1003 2013-01-04  guangzhou         110-A   54  2133.0\n",
       "3  1004 2013-01-05   shenzhen         110-C   32  5433.0\n",
       "4  1005 2013-01-06   shanghai         210-A   34  3299.5\n",
       "5  1006 2013-01-07    beijing         130-F   32  4432.0"
      ]
     },
     "execution_count": 17,
     "metadata": {},
     "output_type": "execute_result"
    }
   ],
   "source": [
    "# 更改列名称\n",
    "df.rename(columns={'category': 'category-size'})"
   ]
  },
  {
   "cell_type": "code",
   "execution_count": 18,
   "metadata": {},
   "outputs": [
    {
     "data": {
      "text/plain": [
       "0      beijing\n",
       "1           sh\n",
       "2    guangzhou\n",
       "3     shenzhen\n",
       "4     shanghai\n",
       "Name: city, dtype: object"
      ]
     },
     "execution_count": 18,
     "metadata": {},
     "output_type": "execute_result"
    }
   ],
   "source": [
    "#删除后出现的重复值\n",
    "df['city'].drop_duplicates()"
   ]
  },
  {
   "cell_type": "code",
   "execution_count": 19,
   "metadata": {},
   "outputs": [
    {
     "data": {
      "text/plain": [
       "1           sh\n",
       "2    guangzhou\n",
       "3     shenzhen\n",
       "4     shanghai\n",
       "5      beijing\n",
       "Name: city, dtype: object"
      ]
     },
     "execution_count": 19,
     "metadata": {},
     "output_type": "execute_result"
    }
   ],
   "source": [
    "#删除先出现的重复值\n",
    "df['city'].drop_duplicates(keep='last')"
   ]
  },
  {
   "cell_type": "code",
   "execution_count": 20,
   "metadata": {},
   "outputs": [
    {
     "data": {
      "text/plain": [
       "0      beijing\n",
       "1     shanghai\n",
       "2    guangzhou\n",
       "3     shenzhen\n",
       "4     shanghai\n",
       "5      beijing\n",
       "Name: city, dtype: object"
      ]
     },
     "execution_count": 20,
     "metadata": {},
     "output_type": "execute_result"
    }
   ],
   "source": [
    "#数据替换\n",
    "df['city'].replace('sh', 'shanghai')"
   ]
  }
 ],
 "metadata": {
  "kernelspec": {
   "display_name": "Python 3",
   "language": "python",
   "name": "python3"
  },
  "language_info": {
   "codemirror_mode": {
    "name": "ipython",
    "version": 3
   },
   "file_extension": ".py",
   "mimetype": "text/x-python",
   "name": "python",
   "nbconvert_exporter": "python",
   "pygments_lexer": "ipython3",
   "version": "3.7.1"
  }
 },
 "nbformat": 4,
 "nbformat_minor": 2
}
