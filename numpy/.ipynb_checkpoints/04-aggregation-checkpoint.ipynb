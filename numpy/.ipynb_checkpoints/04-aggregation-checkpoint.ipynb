{
 "cells": [
  {
   "cell_type": "markdown",
   "metadata": {},
   "source": [
    "## Numpy聚合计算\n",
    "### 参考：python数据科学手册"
   ]
  },
  {
   "cell_type": "markdown",
   "metadata": {},
   "source": [
    "##### 均值、标准差、求和、乘积、中位数、最小值和最大值、分位数，等等"
   ]
  },
  {
   "cell_type": "code",
   "execution_count": 56,
   "metadata": {},
   "outputs": [],
   "source": [
    "import numpy as np \n",
    "\n",
    "# 100个元素的数组\n",
    "L = np.random.random(100)\n",
    "\n",
    "# 100万个元素的数组\n",
    "big_array = np.random.rand(1000000)"
   ]
  },
  {
   "cell_type": "markdown",
   "metadata": {},
   "source": [
    "### 1 数组值求和"
   ]
  },
  {
   "cell_type": "code",
   "execution_count": 57,
   "metadata": {},
   "outputs": [
    {
     "data": {
      "text/plain": [
       "52.112604637396274"
      ]
     },
     "execution_count": 57,
     "metadata": {},
     "output_type": "execute_result"
    }
   ],
   "source": [
    "# 内置的sum函数\n",
    "sum(L)"
   ]
  },
  {
   "cell_type": "code",
   "execution_count": 58,
   "metadata": {},
   "outputs": [
    {
     "data": {
      "text/plain": [
       "52.11260463739628"
      ]
     },
     "execution_count": 58,
     "metadata": {},
     "output_type": "execute_result"
    }
   ],
   "source": [
    "# NumPy的sum函数在编译码中执行操作，所以 NumPy 的操作计算得更快\n",
    "np.sum(L)"
   ]
  },
  {
   "cell_type": "code",
   "execution_count": 59,
   "metadata": {},
   "outputs": [
    {
     "name": "stdout",
     "output_type": "stream",
     "text": [
      "188 ms ± 11.8 ms per loop (mean ± std. dev. of 7 runs, 1 loop each)\n",
      "481 µs ± 19.4 µs per loop (mean ± std. dev. of 7 runs, 1000 loops each)\n"
     ]
    }
   ],
   "source": [
    "# 性能对比，内置的sum函数 vs NumPy的sum函数\n",
    "%timeit sum(big_array)\n",
    "%timeit np.sum(big_array)"
   ]
  },
  {
   "cell_type": "markdown",
   "metadata": {},
   "source": [
    "### 2 最小值和最大值"
   ]
  },
  {
   "cell_type": "code",
   "execution_count": 60,
   "metadata": {},
   "outputs": [
    {
     "data": {
      "text/plain": [
       "(0.018968174408960037, 0.9937806616221312)"
      ]
     },
     "execution_count": 60,
     "metadata": {},
     "output_type": "execute_result"
    }
   ],
   "source": [
    "# 内置的min函数和max函数\n",
    "min(L), max(L)"
   ]
  },
  {
   "cell_type": "code",
   "execution_count": 61,
   "metadata": {},
   "outputs": [
    {
     "data": {
      "text/plain": [
       "(0.018968174408960037, 0.9937806616221312)"
      ]
     },
     "execution_count": 61,
     "metadata": {},
     "output_type": "execute_result"
    }
   ],
   "source": [
    "# NumPy对应的函数\n",
    "np.min(L), np.max(L)"
   ]
  },
  {
   "cell_type": "code",
   "execution_count": 62,
   "metadata": {},
   "outputs": [
    {
     "name": "stdout",
     "output_type": "stream",
     "text": [
      "112 ms ± 861 µs per loop (mean ± std. dev. of 7 runs, 10 loops each)\n",
      "469 µs ± 4.91 µs per loop (mean ± std. dev. of 7 runs, 1000 loops each)\n"
     ]
    }
   ],
   "source": [
    "# 性能对比，内置函数 vs NumPy函数\n",
    "%timeit min(big_array)\n",
    "%timeit np.min(big_array)"
   ]
  },
  {
   "cell_type": "code",
   "execution_count": 63,
   "metadata": {},
   "outputs": [
    {
     "name": "stdout",
     "output_type": "stream",
     "text": [
      "0.018968174408960037 0.9937806616221312 52.11260463739628\n"
     ]
    }
   ],
   "source": [
    "# min、max、sum和其他NumPy聚合函数，数组对象直接调用这些方法\n",
    "print(L.min(), L.max(), L.sum())"
   ]
  },
  {
   "cell_type": "markdown",
   "metadata": {},
   "source": [
    "### 3 其他聚合函数"
   ]
  },
  {
   "cell_type": "markdown",
   "metadata": {},
   "source": [
    "函数名称|NaN安全版本|描述\n",
    "-|-|-\n",
    "np.sum |np.nansum | 计算元素的和\n",
    "np.prod|np.nanprod| 计算元素的积\n",
    "np.mean|np.nanmean| 计算元素的平均值\n",
    "np.std |np.nanstd | 计算元素的标准差\n",
    "np.var |np.nanvar | 计算元素的方差\n",
    "np.min |np.nanmin | 找出最小值\n",
    "np.max |np.nanmax | 找出最大值\n",
    "np.argmin |np.nanargmin | 找出最小值的索引\n",
    "np.argmax |np.nanargmax | 找出最大值的索引\n",
    "np.median |np.nanmedian | 计算元素的中位数\n",
    "np.percentile |np.nanpercentile |计算基于元素排序的统计值\n",
    "np.any | N/A | 验证任何一个元素是否为真\n",
    "np.all | N/A | 验证所有元素是否为真"
   ]
  },
  {
   "cell_type": "markdown",
   "metadata": {},
   "source": [
    "### 4 多维度聚合"
   ]
  },
  {
   "cell_type": "code",
   "execution_count": 64,
   "metadata": {},
   "outputs": [
    {
     "name": "stdout",
     "output_type": "stream",
     "text": [
      "[[0.88022571 0.61571701 0.38684209 0.91201   ]\n",
      " [0.83284412 0.10992733 0.01777763 0.82377088]\n",
      " [0.41139142 0.61682709 0.11374884 0.25899513]]\n"
     ]
    }
   ],
   "source": [
    "# 二维数组\n",
    "M = np.random.random((3, 4))\n",
    "print(M)"
   ]
  },
  {
   "cell_type": "code",
   "execution_count": 65,
   "metadata": {},
   "outputs": [
    {
     "data": {
      "text/plain": [
       "5.980077255682541"
      ]
     },
     "execution_count": 65,
     "metadata": {},
     "output_type": "execute_result"
    }
   ],
   "source": [
    "# 默认情况下，NumPy聚合函数将会返回对整个数组的聚合结果\n",
    "M.sum()"
   ]
  },
  {
   "cell_type": "markdown",
   "metadata": {},
   "source": [
    "#### 一种常用的聚合操作是沿着一行或一列聚合；聚合函数还有一个参数，用于指定沿着哪个轴的方向进行聚合，axis关键字指定的是数组将会被折叠的维度，指定 axis=0 意味着第一个轴将要被折叠——对于二维数组，这意味着每一列的值都将被聚合。"
   ]
  },
  {
   "cell_type": "code",
   "execution_count": 66,
   "metadata": {},
   "outputs": [
    {
     "data": {
      "text/plain": [
       "array([0.41139142, 0.10992733, 0.01777763, 0.25899513])"
      ]
     },
     "execution_count": 66,
     "metadata": {},
     "output_type": "execute_result"
    }
   ],
   "source": [
    "# 通过指定axis=0，找到每一列的最小值\n",
    "M.min(axis=0)"
   ]
  },
  {
   "cell_type": "code",
   "execution_count": 67,
   "metadata": {},
   "outputs": [
    {
     "data": {
      "text/plain": [
       "array([0.91201   , 0.83284412, 0.61682709])"
      ]
     },
     "execution_count": 67,
     "metadata": {},
     "output_type": "execute_result"
    }
   ],
   "source": [
    "# 通过指定axis=1，找到每一行的最大值\n",
    "M.max(axis=1)"
   ]
  },
  {
   "cell_type": "markdown",
   "metadata": {},
   "source": [
    "### 5 示例"
   ]
  },
  {
   "cell_type": "code",
   "execution_count": 68,
   "metadata": {},
   "outputs": [],
   "source": [
    "import pandas as pd\n",
    "import matplotlib.pyplot as plt"
   ]
  },
  {
   "cell_type": "code",
   "execution_count": 69,
   "metadata": {},
   "outputs": [
    {
     "data": {
      "text/html": [
       "<div>\n",
       "<style scoped>\n",
       "    .dataframe tbody tr th:only-of-type {\n",
       "        vertical-align: middle;\n",
       "    }\n",
       "\n",
       "    .dataframe tbody tr th {\n",
       "        vertical-align: top;\n",
       "    }\n",
       "\n",
       "    .dataframe thead th {\n",
       "        text-align: right;\n",
       "    }\n",
       "</style>\n",
       "<table border=\"1\" class=\"dataframe\">\n",
       "  <thead>\n",
       "    <tr style=\"text-align: right;\">\n",
       "      <th></th>\n",
       "      <th>Unnamed: 0</th>\n",
       "      <th>Clump Thickness</th>\n",
       "      <th>Cell Size</th>\n",
       "      <th>Type</th>\n",
       "    </tr>\n",
       "  </thead>\n",
       "  <tbody>\n",
       "    <tr>\n",
       "      <th>125</th>\n",
       "      <td>462</td>\n",
       "      <td>1</td>\n",
       "      <td>1</td>\n",
       "      <td>0</td>\n",
       "    </tr>\n",
       "    <tr>\n",
       "      <th>136</th>\n",
       "      <td>124</td>\n",
       "      <td>4</td>\n",
       "      <td>6</td>\n",
       "      <td>1</td>\n",
       "    </tr>\n",
       "    <tr>\n",
       "      <th>7</th>\n",
       "      <td>104</td>\n",
       "      <td>10</td>\n",
       "      <td>10</td>\n",
       "      <td>1</td>\n",
       "    </tr>\n",
       "  </tbody>\n",
       "</table>\n",
       "</div>"
      ],
      "text/plain": [
       "     Unnamed: 0  Clump Thickness  Cell Size  Type\n",
       "125         462                1          1     0\n",
       "136         124                4          6     1\n",
       "7           104               10         10     1"
      ]
     },
     "execution_count": 69,
     "metadata": {},
     "output_type": "execute_result"
    }
   ],
   "source": [
    "# 读文件\n",
    "df_train = pd.read_csv('../Datasets/Breast-Cancer/breast-cancer-train.csv')\n",
    "df_train.sample(n=3)"
   ]
  },
  {
   "cell_type": "code",
   "execution_count": 70,
   "metadata": {},
   "outputs": [
    {
     "name": "stdout",
     "output_type": "stream",
     "text": [
      "[ 1 10 10  1  1  1  2 10  2  1  1  6  1  2  1  3  1  1  1  4  1  1  1  5\n",
      " 10  5 10 10  3  1  1  1  1  1  1 10 10  1  2 10  5  1  1  5  1  1  2  1\n",
      "  5  6  3  8  3  1  1  8  1  1  8  1  3  1  1  1  1  4  1  1  7  7  1  4\n",
      "  5  1  1  4  1  1  3  1  1  1  4  1  6  7  1  1  2  2  8  3  4  8  1  8\n",
      "  5  1 10 10  1 10  4  3 10  1  3  1  6  4  1  1  1  2  6  1  1  8  8  7\n",
      " 10  1  8  1  8  1  1  2  5  1  1  6  3  4  3  7  6  1 10  1  1  1  1  4\n",
      "  1  5  1  1  3  1  1  1  4  1  3  4  3  2  1  7  1  1  1  7  5  1  3  1\n",
      "  1  1 10  8 10  1  4  1  1  1  1  1  1  6  1 10 10  1  1  1  1  1  1  1\n",
      "  1  1  1  1 10  1  1  1  1  1  1  1  4  1  8  9 10  5  1  6 10 10  1  1\n",
      "  1  1  4  8  1 10  1  1  8  7  2  2  7  7  1  1  1  2  1 10  1  1  1  2\n",
      "  4  4  1  1  1  1  1  1  1  1  1  1  3  8  4  1  7  9  1  3 10  1  1  4\n",
      "  1  1  2  1  5  4  1  8  1  1 10  1  2  1  1 10  1  1 10  1  6  1  3  5\n",
      "  4  3  1 10  9 10  3  6  1  2  1  3  6  1  5  1  4  1  3  8  1  1  1  2\n",
      "  5  1  1  5  1  1  3  1  1  4  1  2  8  5  1  1  1  3  3  2  1  1  3  1\n",
      "  7  4  8 10  8  1  3 10  2  1  1  3  3  1  3  1  1  4  1  6  2  1  5  2\n",
      "  1  3  6  1  1  5  1  7  1  1  5  1  3  1  1  5  1  4  1  1  1  1  1  1\n",
      "  6  2  6  1 10  1  1  1  1  2  8  5  1  1  3  7  1  2 10  9  1  1  1  1\n",
      "  1  2 10  9  1  2  1  1  7  7  1  1  1  7  2  1  3  2  7  4  1  2 10  1\n",
      "  5  1  1  1  5  2  6  1  4  6  1  6  1  7  4  1  2 10  1  8  1  1  1  2\n",
      "  4 10  1  4  1  1  2 10  2  1  8  1 10  1  5  1  1  1  1  5  1  3  4  7\n",
      "  1  2  2  1  1  1  2  1  3  1  1  3  1  1  3  5  1  3  7  1 10  2  2  9\n",
      "  1  7  1  3  3  6  2  6  2  7 10  6  1  1  2  2 10  7 10  2]\n"
     ]
    }
   ],
   "source": [
    "# 抽取'Cell Size'信息\n",
    "cell_sizes = np.array(df_train['Cell Size'])\n",
    "print(cell_sizes)"
   ]
  },
  {
   "cell_type": "code",
   "execution_count": 71,
   "metadata": {},
   "outputs": [
    {
     "name": "stdout",
     "output_type": "stream",
     "text": [
      "Mean:  3.2900763358778624\n",
      "Standard deviation: 3.011399587415935\n",
      "Minimum:  1\n",
      "Maximum:  10\n"
     ]
    }
   ],
   "source": [
    "# 概括统计值\n",
    "print(\"Mean: \", cell_sizes.mean())\n",
    "print(\"Standard deviation:\", cell_sizes.std())\n",
    "print(\"Minimum: \", cell_sizes.min())\n",
    "print(\"Maximum: \", cell_sizes.max())"
   ]
  },
  {
   "cell_type": "code",
   "execution_count": 72,
   "metadata": {},
   "outputs": [
    {
     "name": "stdout",
     "output_type": "stream",
     "text": [
      "25th percentile:  1.0\n",
      "Median:  2.0\n",
      "75th percentile:  5.0\n"
     ]
    }
   ],
   "source": [
    "# 计算分位数\n",
    "print(\"25th percentile: \", np.percentile(cell_sizes, 25))\n",
    "print(\"Median: \", np.median(cell_sizes))\n",
    "print(\"75th percentile: \", np.percentile(cell_sizes, 75))"
   ]
  },
  {
   "cell_type": "code",
   "execution_count": 73,
   "metadata": {},
   "outputs": [
    {
     "data": {
      "image/png": "[encoded data removed]",
      "text/plain": [
       "<Figure size 432x288 with 1 Axes>"
      ]
     },
     "metadata": {},
     "output_type": "display_data"
    }
   ],
   "source": [
    "# 绘图\n",
    "import seaborn\n",
    "seaborn.set() # 设置绘图风格\n",
    "\n",
    "plt.hist(cell_sizes)\n",
    "plt.title('Cell Size Distribution')\n",
    "plt.xlabel('Cell Size')\n",
    "plt.ylabel('number');"
   ]
  }
 ],
 "metadata": {
  "kernelspec": {
   "display_name": "Python 3",
   "language": "python",
   "name": "python3"
  },
  "language_info": {
   "codemirror_mode": {
    "name": "ipython",
    "version": 3
   },
   "file_extension": ".py",
   "mimetype": "text/x-python",
   "name": "python",
   "nbconvert_exporter": "python",
   "pygments_lexer": "ipython3",
   "version": "3.7.1"
  }
 },
 "nbformat": 4,
 "nbformat_minor": 2
}
