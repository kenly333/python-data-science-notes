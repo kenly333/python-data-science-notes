{
 "cells": [
  {
   "cell_type": "markdown",
   "metadata": {},
   "source": [
    "# 参考：https://cloud.tencent.com/developer/article/1092667"
   ]
  },
  {
   "cell_type": "code",
   "execution_count": 2,
   "metadata": {},
   "outputs": [],
   "source": [
    "import numpy as np\n",
    "import matplotlib.pyplot as plt"
   ]
  },
  {
   "cell_type": "markdown",
   "metadata": {},
   "source": [
    "# 函数定义"
   ]
  },
  {
   "cell_type": "code",
   "execution_count": 3,
   "metadata": {},
   "outputs": [],
   "source": [
    "#Sigmoid函数是一个在生物学中常见的S型的函数，也称为S型生长曲线。Sigmoid函数常被用作神经网络的阈值函数，将变量映射到0,1之间。\n",
    "def sigmoid(x):\n",
    "    return 1.0/(1+np.exp(-x))"
   ]
  },
  {
   "cell_type": "markdown",
   "metadata": {},
   "source": [
    "# 函数图像"
   ]
  },
  {
   "cell_type": "code",
   "execution_count": 4,
   "metadata": {},
   "outputs": [
    {
     "name": "stdout",
     "output_type": "stream",
     "text": [
      "Sigmoid Function Input : [-10  -9  -8  -7  -6  -5  -4  -3  -2  -1   0   1   2   3   4   5   6   7\n",
      "   8   9  10  11  12  13  14  15  16  17  18  19]\n",
      "Sigmoid Function Output : [0.50001135 0.50003085 0.50008384 0.50022776 0.50061816 0.50167321\n",
      " 0.50449643 0.51185425 0.52976549 0.56683301 0.62245933 0.67503753\n",
      " 0.70698737 0.72163256 0.72750761 0.72974065 0.73057215 0.73087942\n",
      " 0.73099264 0.73103432 0.73104965 0.73105529 0.73105737 0.73105813\n",
      " 0.73105842 0.73105852 0.73105856 0.73105857 0.73105858 0.73105858]\n"
     ]
    },
    {
     "data": {
      "image/png": "[encoded data removed]",
      "text/plain": [
       "<Figure size 432x288 with 1 Axes>"
      ]
     },
     "metadata": {
      "needs_background": "light"
     },
     "output_type": "display_data"
    }
   ],
   "source": [
    "sigmoid_inputs = np.arange(-10,20)\n",
    "sigmoid_outputs=sigmoid(sigmoid(sigmoid_inputs))\n",
    "print(\"Sigmoid Function Input : {}\".format(sigmoid_inputs))\n",
    "print(\"Sigmoid Function Output : {}\".format(sigmoid_outputs))\n",
    "\n",
    "plt.plot(sigmoid_inputs,sigmoid_outputs)\n",
    "plt.xlabel(\"Sigmoid Inputs\")\n",
    "plt.ylabel(\"Sigmoid Outputs\")\n",
    "plt.show()"
   ]
  },
  {
   "cell_type": "code",
   "execution_count": null,
   "metadata": {},
   "outputs": [],
   "source": []
  }
 ],
 "metadata": {
  "kernelspec": {
   "display_name": "Python 3",
   "language": "python",
   "name": "python3"
  },
  "language_info": {
   "codemirror_mode": {
    "name": "ipython",
    "version": 3
   },
   "file_extension": ".py",
   "mimetype": "text/x-python",
   "name": "python",
   "nbconvert_exporter": "python",
   "pygments_lexer": "ipython3",
   "version": "3.7.1"
  }
 },
 "nbformat": 4,
 "nbformat_minor": 2
}
