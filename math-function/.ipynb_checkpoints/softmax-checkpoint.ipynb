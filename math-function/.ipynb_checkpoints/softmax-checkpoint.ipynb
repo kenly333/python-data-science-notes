{
 "cells": [
  {
   "cell_type": "markdown",
   "metadata": {},
   "source": [
    "# 参考：https://cloud.tencent.com/developer/article/1092667"
   ]
  },
  {
   "cell_type": "code",
   "execution_count": 1,
   "metadata": {},
   "outputs": [],
   "source": [
    "import numpy as np\n",
    "import matplotlib.pyplot as plt"
   ]
  },
  {
   "cell_type": "markdown",
   "metadata": {},
   "source": [
    "# 函数定义"
   ]
  },
  {
   "cell_type": "code",
   "execution_count": 2,
   "metadata": {},
   "outputs": [],
   "source": [
    "# 在数学，尤其是概率论和相关领域中，Softmax函数，或称归一化指数函数，是逻辑函数的一种推广。\n",
    "# 它能将一个含任意实数的K维的向量z的“压缩”到另一个K维实向量σ(z) 中，使得每一个元素的范围都在(0,1)之间，并且所有元素的和为1。\n",
    "\n",
    "def softmax(x):\n",
    "    orig_shape=x.shape\n",
    "    if len(x.shape)>1:\n",
    "        #Matrix\n",
    "        #shift max whithin each row\n",
    "        constant_shift=np.max(x,axis=1).reshape(1,-1)\n",
    "        x-=constant_shift\n",
    "        x=np.exp(x)\n",
    "        normlize=np.sum(x,axis=1).reshape(1,-1)\n",
    "        x/=normlize\n",
    "    else:\n",
    "        #vector\n",
    "        constant_shift=np.max(x)\n",
    "        x-=constant_shift\n",
    "        x=np.exp(x)\n",
    "        normlize=np.sum(x)\n",
    "        x/=normlize\n",
    "    assert x.shape==orig_shape\n",
    "    return x"
   ]
  },
  {
   "cell_type": "markdown",
   "metadata": {},
   "source": [
    "# 函数图像"
   ]
  },
  {
   "cell_type": "code",
   "execution_count": 4,
   "metadata": {},
   "outputs": [
    {
     "name": "stdout",
     "output_type": "stream",
     "text": [
      "Sigmoid Function Input : [-19 -18 -17 -16 -15 -14 -13 -12 -11 -10  -9  -8  -7  -6  -5  -4  -3  -2\n",
      "  -1   0]\n",
      "Sigmoid Function Output : [3.54164282e-09 9.62718333e-09 2.61693975e-08 7.11357977e-08\n",
      " 1.93367146e-07 5.25626400e-07 1.42880069e-06 3.88388295e-06\n",
      " 1.05574885e-05 2.86982290e-05 7.80098745e-05 2.12052824e-04\n",
      " 5.76419339e-04 1.56687021e-03 4.25919483e-03 1.15776919e-02\n",
      " 3.14714295e-02 8.55482150e-02 2.32544158e-01 6.32120560e-01]\n"
     ]
    },
    {
     "data": {
      "image/png": "[encoded data removed]",
      "text/plain": [
       "<Figure size 432x288 with 1 Axes>"
      ]
     },
     "metadata": {
      "needs_background": "light"
     },
     "output_type": "display_data"
    }
   ],
   "source": [
    "softmax_inputs = np.arange(-10,10)\n",
    "softmax_outputs=softmax(softmax_inputs)\n",
    "print(\"Sigmoid Function Input : {}\".format(softmax_inputs))\n",
    "print(\"Sigmoid Function Output : {}\".format(softmax_outputs))\n",
    "\n",
    "# 画图像\n",
    "plt.plot(softmax_inputs,softmax_outputs)\n",
    "plt.xlabel(\"Softmax Inputs\")\n",
    "plt.ylabel(\"Softmax Outputs\")\n",
    "plt.show()"
   ]
  },
  {
   "cell_type": "code",
   "execution_count": null,
   "metadata": {},
   "outputs": [],
   "source": []
  }
 ],
 "metadata": {
  "kernelspec": {
   "display_name": "Python 3",
   "language": "python",
   "name": "python3"
  },
  "language_info": {
   "codemirror_mode": {
    "name": "ipython",
    "version": 3
   },
   "file_extension": ".py",
   "mimetype": "text/x-python",
   "name": "python",
   "nbconvert_exporter": "python",
   "pygments_lexer": "ipython3",
   "version": "3.7.1"
  }
 },
 "nbformat": 4,
 "nbformat_minor": 2
}
